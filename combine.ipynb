{
  "nbformat": 4,
  "nbformat_minor": 0,
  "metadata": {
    "colab": {
      "provenance": [],
      "authorship_tag": "ABX9TyP5QQOondGiTTfWTJJL7oZQ",
      "include_colab_link": true
    },
    "kernelspec": {
      "name": "python3",
      "display_name": "Python 3"
    },
    "language_info": {
      "name": "python"
    }
  },
  "cells": [
    {
      "cell_type": "markdown",
      "metadata": {
        "id": "view-in-github",
        "colab_type": "text"
      },
      "source": [
        "<a href=\"https://colab.research.google.com/github/Zurthr/SG-HDB-Flat-Resell-Prices/blob/main/combine.ipynb\" target=\"_parent\"><img src=\"https://colab.research.google.com/assets/colab-badge.svg\" alt=\"Open In Colab\"/></a>"
      ]
    },
    {
      "cell_type": "code",
      "execution_count": 1,
      "metadata": {
        "id": "8AC8GplM9i-_"
      },
      "outputs": [],
      "source": [
        "from google.colab import files\n"
      ]
    },
    {
      "cell_type": "code",
      "source": [
        "import pandas as pd\n",
        "\n",
        "df_price = pd.read_csv('resale_price_predictions.csv')\n",
        "df_afford = pd.read_csv('affordability_levels (2).csv')\n"
      ],
      "metadata": {
        "id": "h-FOzoMa-BXV"
      },
      "execution_count": 2,
      "outputs": []
    },
    {
      "cell_type": "code",
      "source": [
        "# Example merge on common columns 'block' and 'flat_type'\n",
        "df_combined = pd.merge(\n",
        "    df_afford,\n",
        "    df_price,\n",
        "    on=['month', 'block', 'street_name', 'flat_type', 'resale_price', 'floor_area_sqm'],\n",
        "    how='inner'\n",
        ")\n",
        "\n"
      ],
      "metadata": {
        "id": "gV19Memw-ENv"
      },
      "execution_count": 3,
      "outputs": []
    },
    {
      "cell_type": "code",
      "source": [
        "print(\"Rows in df_affordability:\", len(df_afford))\n",
        "print(\"Rows in df_price:\", len(df_price))\n",
        "print(\"Rows in df_combined (after merge):\", len(df_combined))\n"
      ],
      "metadata": {
        "colab": {
          "base_uri": "https://localhost:8080/"
        },
        "id": "aPPOuta1-Msg",
        "outputId": "0712bd3b-8c47-48c6-e8ff-626128b01d1a"
      },
      "execution_count": 4,
      "outputs": [
        {
          "output_type": "stream",
          "name": "stdout",
          "text": [
            "Rows in df_affordability: 118289\n",
            "Rows in df_price: 203371\n",
            "Rows in df_combined (after merge): 118341\n"
          ]
        }
      ]
    },
    {
      "cell_type": "code",
      "source": [
        "# Check for duplicates in df_afford\n",
        "print(\"Unique rows in df_afford:\", df_afford[['flat_type', 'floor_area_sqm', 'resale_price']].drop_duplicates().shape[0])\n",
        "\n",
        "# Check for duplicates in df_price\n",
        "print(\"Unique rows in df_price:\", df_price[['flat_type', 'floor_area_sqm', 'resale_price']].drop_duplicates().shape[0])\n",
        "affordability_counts = df_afford['affordability_level'].value_counts().sort_index()\n",
        "\n",
        "print(affordability_counts)"
      ],
      "metadata": {
        "colab": {
          "base_uri": "https://localhost:8080/"
        },
        "id": "61UUFKIR-Re6",
        "outputId": "6a84a2a9-0919-4dba-bd34-78bc9ecf7128"
      },
      "execution_count": 8,
      "outputs": [
        {
          "output_type": "stream",
          "name": "stdout",
          "text": [
            "Unique rows in df_afford: 28505\n",
            "Unique rows in df_price: 40944\n",
            "affordability_level\n",
            "1    29531\n",
            "2    43391\n",
            "3    24063\n",
            "4     9357\n",
            "5    11947\n",
            "Name: count, dtype: int64\n"
          ]
        }
      ]
    },
    {
      "cell_type": "code",
      "source": [
        "df_combined.to_csv('SINGHDB Datamined.csv', index=False)"
      ],
      "metadata": {
        "id": "kenWnLYBAU-Y"
      },
      "execution_count": 6,
      "outputs": []
    }
  ]
}